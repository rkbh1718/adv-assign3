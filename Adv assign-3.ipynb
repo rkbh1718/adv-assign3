{
 "cells": [
  {
   "cell_type": "markdown",
   "id": "8be5d00e",
   "metadata": {},
   "source": [
    "1. What is the concept of an abstract superclass?"
   ]
  },
  {
   "cell_type": "code",
   "execution_count": null,
   "id": "26d0a8b1",
   "metadata": {},
   "outputs": [],
   "source": [
    "A common superclass for several subclasses.\n",
    "Factor up common behavior\n",
    "Define the methods they all respond to.\n",
    "Methods that subclasses should implement are declared abstract\n",
    "Instances of the subclasses are created, but no instances of the superclass\n"
   ]
  },
  {
   "cell_type": "markdown",
   "id": "111945a8",
   "metadata": {},
   "source": [
    "2. What happens when a class statement&#39;s top level contains a basic assignment statement?"
   ]
  },
  {
   "cell_type": "code",
   "execution_count": null,
   "id": "d4ab6159",
   "metadata": {},
   "outputs": [],
   "source": [
    "??"
   ]
  },
  {
   "cell_type": "markdown",
   "id": "fec484e5",
   "metadata": {},
   "source": [
    "3. Why does a class need to manually call a superclass&#39;s __init__ method?"
   ]
  },
  {
   "cell_type": "code",
   "execution_count": null,
   "id": "c6939999",
   "metadata": {},
   "outputs": [],
   "source": [
    "In Python, calling the super-class' __init__ is optional. If you call it, it is then also optional whether to use the super identifier, or whether to explicitly name the super class:\n",
    "\n",
    "object.__init__(self)\n",
    "In case of object, calling the super method is not strictly necessary, since the super method is empty. Same for __del__.\n",
    "\n",
    "On the other hand, for __new__, you should indeed call the super method, and use its return as the newly-created object - unless you explicitly want to return something different."
   ]
  },
  {
   "cell_type": "markdown",
   "id": "4e2a750f",
   "metadata": {},
   "source": [
    "4. How can you augment, instead of completely replacing, an inherited method?"
   ]
  },
  {
   "cell_type": "code",
   "execution_count": null,
   "id": "5c347808",
   "metadata": {},
   "outputs": [],
   "source": [
    "????"
   ]
  },
  {
   "cell_type": "markdown",
   "id": "6df9960f",
   "metadata": {},
   "source": [
    "5. How is the local scope of a class different from that of a function?"
   ]
  },
  {
   "cell_type": "code",
   "execution_count": null,
   "id": "e4784a13",
   "metadata": {},
   "outputs": [],
   "source": [
    "declaring a variable inside a function inside a class : only that function can access it (its in that functions scope): \n",
    "comment: if the variable is declared without self then it is accessible within that function only, kinda local variable."
   ]
  }
 ],
 "metadata": {
  "kernelspec": {
   "display_name": "Python 3",
   "language": "python",
   "name": "python3"
  },
  "language_info": {
   "codemirror_mode": {
    "name": "ipython",
    "version": 3
   },
   "file_extension": ".py",
   "mimetype": "text/x-python",
   "name": "python",
   "nbconvert_exporter": "python",
   "pygments_lexer": "ipython3",
   "version": "3.8.8"
  }
 },
 "nbformat": 4,
 "nbformat_minor": 5
}
